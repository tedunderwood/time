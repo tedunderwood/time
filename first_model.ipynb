{
 "cells": [
  {
   "cell_type": "markdown",
   "metadata": {
    "collapsed": true
   },
   "source": [
    "# First rough model on the time data\n",
    "\n",
    "I'm going to train ridge regression (a regularized linear model) to estimate log(time_narrated) from the text of passages.\n",
    "\n",
    "To avoid just predicting authorial style, I'll set up crossvalidation so that passages from the same book are always grouped together. I'll also hold out passages from 18 books as a validation set, so we don't overfit through model design."
   ]
  },
  {
   "cell_type": "code",
   "execution_count": 1,
   "metadata": {},
   "outputs": [],
   "source": [
    "import random\n",
    "import pandas as pd\n",
    "import numpy as np\n",
    "from matplotlib import pyplot as plt\n",
    "from sklearn.feature_extraction.text import CountVectorizer\n",
    "from sklearn.preprocessing import StandardScaler\n",
    "from sklearn.linear_model import Ridge\n",
    "from scipy.stats import pearsonr\n",
    "%matplotlib inline"
   ]
  },
  {
   "cell_type": "markdown",
   "metadata": {},
   "source": [
    "### read in the data, separate validation set"
   ]
  },
  {
   "cell_type": "code",
   "execution_count": 18,
   "metadata": {},
   "outputs": [
    {
     "name": "stdout",
     "output_type": "stream",
     "text": [
      "Shape:  (1765, 9)\n",
      "Cols:  ['title', 'date', 'time', 'timez', 'hardz', 'hardraw', 'dialog', 'col', 'text']\n",
      "Unique titles:  108\n"
     ]
    }
   ],
   "source": [
    "data = pd.read_csv('2018segleveldata.csv')\n",
    "print('Shape: ', data.shape)\n",
    "print('Cols: ', list(data.columns))\n",
    "print('Unique titles: ', len(set(data.title)))"
   ]
  },
  {
   "cell_type": "code",
   "execution_count": 98,
   "metadata": {},
   "outputs": [
    {
     "data": {
      "text/html": [
       "<div>\n",
       "<table border=\"1\" class=\"dataframe\">\n",
       "  <thead>\n",
       "    <tr style=\"text-align: right;\">\n",
       "      <th></th>\n",
       "      <th>title</th>\n",
       "      <th>date</th>\n",
       "      <th>time</th>\n",
       "      <th>timez</th>\n",
       "      <th>hardz</th>\n",
       "      <th>hardraw</th>\n",
       "      <th>dialog</th>\n",
       "      <th>col</th>\n",
       "      <th>text</th>\n",
       "    </tr>\n",
       "  </thead>\n",
       "  <tbody>\n",
       "    <tr>\n",
       "      <th>0</th>\n",
       "      <td>The Big Sleep</td>\n",
       "      <td>1939</td>\n",
       "      <td>-5.347108</td>\n",
       "      <td>-0.885829</td>\n",
       "      <td>-0.231688</td>\n",
       "      <td>0.095238</td>\n",
       "      <td>0.000000</td>\n",
       "      <td>underwood</td>\n",
       "      <td>ONE  It was about eleven o’clock in the mornin...</td>\n",
       "    </tr>\n",
       "    <tr>\n",
       "      <th>1</th>\n",
       "      <td>The Big Sleep</td>\n",
       "      <td>1939</td>\n",
       "      <td>-5.616771</td>\n",
       "      <td>-1.012130</td>\n",
       "      <td>0.479181</td>\n",
       "      <td>0.116364</td>\n",
       "      <td>0.000000</td>\n",
       "      <td>underwood</td>\n",
       "      <td>There were French doors at the back of the hal...</td>\n",
       "    </tr>\n",
       "    <tr>\n",
       "      <th>2</th>\n",
       "      <td>The Big Sleep</td>\n",
       "      <td>1939</td>\n",
       "      <td>-4.863681</td>\n",
       "      <td>-0.659408</td>\n",
       "      <td>0.201384</td>\n",
       "      <td>0.108108</td>\n",
       "      <td>0.281853</td>\n",
       "      <td>underwood</td>\n",
       "      <td>The butler stood in front of him and said: “Th...</td>\n",
       "    </tr>\n",
       "    <tr>\n",
       "      <th>3</th>\n",
       "      <td>The Big Sleep</td>\n",
       "      <td>1939</td>\n",
       "      <td>-5.225747</td>\n",
       "      <td>-0.828987</td>\n",
       "      <td>-1.265475</td>\n",
       "      <td>0.064516</td>\n",
       "      <td>0.596774</td>\n",
       "      <td>underwood</td>\n",
       "      <td>She had a drink. She took a swallow from it an...</td>\n",
       "    </tr>\n",
       "    <tr>\n",
       "      <th>4</th>\n",
       "      <td>The Big Sleep</td>\n",
       "      <td>1939</td>\n",
       "      <td>-5.648974</td>\n",
       "      <td>-1.027213</td>\n",
       "      <td>-0.237331</td>\n",
       "      <td>0.095070</td>\n",
       "      <td>0.000000</td>\n",
       "      <td>underwood</td>\n",
       "      <td>FOUR  A. G. Geiger’s place was a store frontag...</td>\n",
       "    </tr>\n",
       "  </tbody>\n",
       "</table>\n",
       "</div>"
      ],
      "text/plain": [
       "           title  date      time     timez     hardz   hardraw    dialog  \\\n",
       "0  The Big Sleep  1939 -5.347108 -0.885829 -0.231688  0.095238  0.000000   \n",
       "1  The Big Sleep  1939 -5.616771 -1.012130  0.479181  0.116364  0.000000   \n",
       "2  The Big Sleep  1939 -4.863681 -0.659408  0.201384  0.108108  0.281853   \n",
       "3  The Big Sleep  1939 -5.225747 -0.828987 -1.265475  0.064516  0.596774   \n",
       "4  The Big Sleep  1939 -5.648974 -1.027213 -0.237331  0.095070  0.000000   \n",
       "\n",
       "         col                                               text  \n",
       "0  underwood  ONE  It was about eleven o’clock in the mornin...  \n",
       "1  underwood  There were French doors at the back of the hal...  \n",
       "2  underwood  The butler stood in front of him and said: “Th...  \n",
       "3  underwood  She had a drink. She took a swallow from it an...  \n",
       "4  underwood  FOUR  A. G. Geiger’s place was a store frontag...  "
      ]
     },
     "execution_count": 98,
     "metadata": {},
     "output_type": "execute_result"
    }
   ],
   "source": [
    "data.head()"
   ]
  },
  {
   "cell_type": "code",
   "execution_count": 19,
   "metadata": {},
   "outputs": [
    {
     "name": "stdout",
     "output_type": "stream",
     "text": [
      "Validation set: (279, 9)\n",
      "Data to model: (1486, 9)\n",
      "Remaining titles:  90\n"
     ]
    }
   ],
   "source": [
    "unique_titles = list(set(data.title))\n",
    "\n",
    "validation_titles = random.sample(unique_titles, 18)\n",
    "validationset = data[data['title'].isin(validation_titles)]\n",
    "data2model = data[~data['title'].isin(validation_titles)]\n",
    "print('Validation set:', validationset.shape)\n",
    "print('Data to model:', data2model.shape)\n",
    "\n",
    "unique_titles = list(set(unique_titles) - set(validation_titles))\n",
    "print('Remaining titles: ', len(unique_titles))"
   ]
  },
  {
   "cell_type": "markdown",
   "metadata": {},
   "source": [
    "We have removed 18 titles, and have 90 titles (1486 distinct 250-word segments) left to model. Write those titles to disk so that we can set aside the same validation set in the future, and while you're at it write out the data to model."
   ]
  },
  {
   "cell_type": "code",
   "execution_count": 68,
   "metadata": {},
   "outputs": [],
   "source": [
    "with open('validation_titles.txt', mode = 'w', encoding = 'utf-8') as f:\n",
    "    for title in validation_titles:\n",
    "        f.write(title + '\\n')\n",
    "\n",
    "data2model.to_csv('data2model.csv')"
   ]
  },
  {
   "cell_type": "markdown",
   "metadata": {},
   "source": [
    "### create a matrix of word counts\n",
    "\n",
    "We start with a naive approach that just uses the *n* most common words.\n",
    "\n",
    "Scikit-learn has a CountVectorizer that makes this easy, but it has a few weaknesses. Punctuation would probably be useful, but this vectorizer nixes punctuation. We could fix that later if desired.\n",
    "\n",
    "Also, because we're going to want to run grid search on the *n*, we need these words to be sorted by frequency, which isn't the default behavior. So, vectorize twice.\n",
    "\n",
    "**First, to get a feature list, and sort it.**"
   ]
  },
  {
   "cell_type": "code",
   "execution_count": 21,
   "metadata": {},
   "outputs": [
    {
     "name": "stdout",
     "output_type": "stream",
     "text": [
      "['the', 'and', 'of', 'to', 'in', 'was', 'he', 'that', 'his', 'it', 'her', 'had', 'with', 'you', 'as', 'for', 'she', 'my', 'on', 'not']\n"
     ]
    }
   ],
   "source": [
    "vectorizer = CountVectorizer(max_features = 8000)\n",
    "X = vectorizer.fit_transform(data2model.text)\n",
    "features = vectorizer.get_feature_names()\n",
    "count_array = X.toarray()\n",
    "featurefreq = np.sum(count_array, axis = 0)\n",
    "featuretuples = list(zip(featurefreq, features))\n",
    "featuretuples.sort(reverse = True)\n",
    "topfeatures = [x[1] for x in featuretuples[0: 8000]]\n",
    "print(topfeatures[0:20])"
   ]
  },
  {
   "cell_type": "markdown",
   "metadata": {},
   "source": [
    "**Second, to create the data with that sorted ordering.**"
   ]
  },
  {
   "cell_type": "code",
   "execution_count": 22,
   "metadata": {},
   "outputs": [
    {
     "name": "stdout",
     "output_type": "stream",
     "text": [
      "(1486, 8000)\n"
     ]
    },
    {
     "data": {
      "text/html": [
       "<div>\n",
       "<table border=\"1\" class=\"dataframe\">\n",
       "  <thead>\n",
       "    <tr style=\"text-align: right;\">\n",
       "      <th></th>\n",
       "      <th>the</th>\n",
       "      <th>and</th>\n",
       "      <th>of</th>\n",
       "      <th>to</th>\n",
       "      <th>in</th>\n",
       "      <th>was</th>\n",
       "      <th>he</th>\n",
       "      <th>that</th>\n",
       "      <th>his</th>\n",
       "      <th>it</th>\n",
       "      <th>...</th>\n",
       "      <th>acquiesced</th>\n",
       "      <th>acknowledgment</th>\n",
       "      <th>aching</th>\n",
       "      <th>achieving</th>\n",
       "      <th>ache</th>\n",
       "      <th>ab</th>\n",
       "      <th>_x_</th>\n",
       "      <th>99</th>\n",
       "      <th>97</th>\n",
       "      <th>77</th>\n",
       "    </tr>\n",
       "    <tr>\n",
       "      <th>title</th>\n",
       "      <th></th>\n",
       "      <th></th>\n",
       "      <th></th>\n",
       "      <th></th>\n",
       "      <th></th>\n",
       "      <th></th>\n",
       "      <th></th>\n",
       "      <th></th>\n",
       "      <th></th>\n",
       "      <th></th>\n",
       "      <th></th>\n",
       "      <th></th>\n",
       "      <th></th>\n",
       "      <th></th>\n",
       "      <th></th>\n",
       "      <th></th>\n",
       "      <th></th>\n",
       "      <th></th>\n",
       "      <th></th>\n",
       "      <th></th>\n",
       "      <th></th>\n",
       "    </tr>\n",
       "  </thead>\n",
       "  <tbody>\n",
       "    <tr>\n",
       "      <th>Boston Common</th>\n",
       "      <td>16</td>\n",
       "      <td>7</td>\n",
       "      <td>12</td>\n",
       "      <td>9</td>\n",
       "      <td>9</td>\n",
       "      <td>3</td>\n",
       "      <td>2</td>\n",
       "      <td>0</td>\n",
       "      <td>2</td>\n",
       "      <td>1</td>\n",
       "      <td>...</td>\n",
       "      <td>0</td>\n",
       "      <td>0</td>\n",
       "      <td>0</td>\n",
       "      <td>0</td>\n",
       "      <td>0</td>\n",
       "      <td>0</td>\n",
       "      <td>0</td>\n",
       "      <td>0</td>\n",
       "      <td>0</td>\n",
       "      <td>0</td>\n",
       "    </tr>\n",
       "    <tr>\n",
       "      <th>Boston Common</th>\n",
       "      <td>13</td>\n",
       "      <td>11</td>\n",
       "      <td>6</td>\n",
       "      <td>8</td>\n",
       "      <td>8</td>\n",
       "      <td>2</td>\n",
       "      <td>4</td>\n",
       "      <td>3</td>\n",
       "      <td>13</td>\n",
       "      <td>1</td>\n",
       "      <td>...</td>\n",
       "      <td>0</td>\n",
       "      <td>0</td>\n",
       "      <td>0</td>\n",
       "      <td>0</td>\n",
       "      <td>0</td>\n",
       "      <td>0</td>\n",
       "      <td>0</td>\n",
       "      <td>0</td>\n",
       "      <td>0</td>\n",
       "      <td>0</td>\n",
       "    </tr>\n",
       "    <tr>\n",
       "      <th>Boston Common</th>\n",
       "      <td>15</td>\n",
       "      <td>12</td>\n",
       "      <td>6</td>\n",
       "      <td>8</td>\n",
       "      <td>4</td>\n",
       "      <td>4</td>\n",
       "      <td>2</td>\n",
       "      <td>2</td>\n",
       "      <td>3</td>\n",
       "      <td>0</td>\n",
       "      <td>...</td>\n",
       "      <td>0</td>\n",
       "      <td>0</td>\n",
       "      <td>0</td>\n",
       "      <td>0</td>\n",
       "      <td>0</td>\n",
       "      <td>0</td>\n",
       "      <td>0</td>\n",
       "      <td>0</td>\n",
       "      <td>0</td>\n",
       "      <td>0</td>\n",
       "    </tr>\n",
       "    <tr>\n",
       "      <th>Boston Common</th>\n",
       "      <td>6</td>\n",
       "      <td>10</td>\n",
       "      <td>3</td>\n",
       "      <td>8</td>\n",
       "      <td>7</td>\n",
       "      <td>0</td>\n",
       "      <td>0</td>\n",
       "      <td>3</td>\n",
       "      <td>0</td>\n",
       "      <td>3</td>\n",
       "      <td>...</td>\n",
       "      <td>0</td>\n",
       "      <td>0</td>\n",
       "      <td>0</td>\n",
       "      <td>0</td>\n",
       "      <td>0</td>\n",
       "      <td>0</td>\n",
       "      <td>0</td>\n",
       "      <td>0</td>\n",
       "      <td>0</td>\n",
       "      <td>0</td>\n",
       "    </tr>\n",
       "    <tr>\n",
       "      <th>Boston Common</th>\n",
       "      <td>8</td>\n",
       "      <td>11</td>\n",
       "      <td>8</td>\n",
       "      <td>10</td>\n",
       "      <td>4</td>\n",
       "      <td>6</td>\n",
       "      <td>3</td>\n",
       "      <td>7</td>\n",
       "      <td>4</td>\n",
       "      <td>2</td>\n",
       "      <td>...</td>\n",
       "      <td>0</td>\n",
       "      <td>0</td>\n",
       "      <td>0</td>\n",
       "      <td>0</td>\n",
       "      <td>0</td>\n",
       "      <td>0</td>\n",
       "      <td>0</td>\n",
       "      <td>0</td>\n",
       "      <td>0</td>\n",
       "      <td>0</td>\n",
       "    </tr>\n",
       "  </tbody>\n",
       "</table>\n",
       "<p>5 rows × 8000 columns</p>\n",
       "</div>"
      ],
      "text/plain": [
       "               the  and  of  to  in  was  he  that  his  it ...  acquiesced  \\\n",
       "title                                                       ...               \n",
       "Boston Common   16    7  12   9   9    3   2     0    2   1 ...           0   \n",
       "Boston Common   13   11   6   8   8    2   4     3   13   1 ...           0   \n",
       "Boston Common   15   12   6   8   4    4   2     2    3   0 ...           0   \n",
       "Boston Common    6   10   3   8   7    0   0     3    0   3 ...           0   \n",
       "Boston Common    8   11   8  10   4    6   3     7    4   2 ...           0   \n",
       "\n",
       "               acknowledgment  aching  achieving  ache  ab  _x_  99  97  77  \n",
       "title                                                                        \n",
       "Boston Common               0       0          0     0   0    0   0   0   0  \n",
       "Boston Common               0       0          0     0   0    0   0   0   0  \n",
       "Boston Common               0       0          0     0   0    0   0   0   0  \n",
       "Boston Common               0       0          0     0   0    0   0   0   0  \n",
       "Boston Common               0       0          0     0   0    0   0   0   0  \n",
       "\n",
       "[5 rows x 8000 columns]"
      ]
     },
     "execution_count": 22,
     "metadata": {},
     "output_type": "execute_result"
    }
   ],
   "source": [
    "vectorizer = CountVectorizer(vocabulary = topfeatures)\n",
    "X = vectorizer.fit_transform(data2model.text)\n",
    "count_array = X.toarray()\n",
    "df = pd.DataFrame(count_array, columns = topfeatures, index = data2model.title)\n",
    "print(df.shape)\n",
    "df.head()"
   ]
  },
  {
   "cell_type": "markdown",
   "metadata": {},
   "source": [
    "### Now for the actual modeling.\n",
    "\n",
    "The function **model_holding_out** trains a model using all the titles except those contained in the iterable **holdout**. It predicts log(time) for all the segments with titles in **holdout,** and returns both the predictions and the actual (human-estimated) log(time)."
   ]
  },
  {
   "cell_type": "code",
   "execution_count": 43,
   "metadata": {},
   "outputs": [],
   "source": [
    "def model_holding_out(data, metadata, holdout, alpha, num_variables):\n",
    "    ''' Trains a model holding out fold # fold_index.\n",
    "    '''\n",
    "    \n",
    "    trainset = data.drop(holdout)\n",
    "    trainset = trainset.iloc[ : , 0 : num_variables]\n",
    "    \n",
    "    testset = data.loc[holdout, : ]\n",
    "    testset = testset.iloc[ : , 0: num_variables]\n",
    "    \n",
    "    trainY = metadata.time[~metadata['title'].isin(holdout)]\n",
    "    testY = metadata.time[metadata['title'].isin(holdout)]\n",
    "    \n",
    "    model = Ridge(alpha = alpha)\n",
    "    model.fit(trainset, trainY)\n",
    "    \n",
    "    predictions = model.predict(testset)\n",
    "    \n",
    "    return predictions, testY"
   ]
  },
  {
   "cell_type": "markdown",
   "metadata": {},
   "source": [
    "Now, using that function, we can build a grid search across possible values of the regularization constant and *n* most common words.\n",
    "\n",
    "I do this using leave-one-out crossvalidation (leaving out one *title* at a time). That should be okay because I don't believe we ever repeat authors in this dataset. But in earlier experiments I got *much* -- almost order of magnitude -- lower accuracy using tenfold crossvalidation (creating ten groups of nine titles each). I'm not accustomed to seeing such a big difference between validation methods, and the cause is worth glancing at skeptically if we pursue this further. Is leave-one-out maybe too optimistic?\n",
    "\n",
    "Also note that I'm not scaling/standardizing the features here, although I normally do that before training a regularized model. In earlier experiments the scaling didn't seem to help and actually hurt, but again, I want to understand why that would be."
   ]
  },
  {
   "cell_type": "code",
   "execution_count": 69,
   "metadata": {},
   "outputs": [],
   "source": [
    "def grid_test_leaveone(data, metadata):\n",
    "    grid = []\n",
    "    alpharange = [.000001, .001, .1, 1, 10, 100, 1000, 10000]\n",
    "    varrange = [8000, 6000, 3000, 2000, 1000, 500, 250, 100]\n",
    "    unique_titles = list(set(metadata.title))\n",
    "    \n",
    "    for alpha in alpharange:\n",
    "        row = []\n",
    "        for numvar in varrange:\n",
    "            y = []\n",
    "            yhat = []\n",
    "            for t in unique_titles:\n",
    "                holdout = [t]\n",
    "                predictions, actual = model_holding_out(data, metadata, holdout, alpha, numvar)\n",
    "                y.extend(actual)\n",
    "                yhat.extend(predictions)\n",
    "            r, p = pearsonr(y, yhat)\n",
    "            print(alpha, numvar, r, p)\n",
    "            row.append(r)\n",
    "        grid.append(row)\n",
    "    \n",
    "    griddf = pd.DataFrame(grid, columns = varrange, index = alpharange)\n",
    "    \n",
    "    return griddf"
   ]
  },
  {
   "cell_type": "markdown",
   "metadata": {},
   "source": [
    "### First modeling attempt, naive feature selection\n",
    "\n",
    "Here's what the grid search looks like. Vertical axis is regularization constant, horizontal is number of features.\n",
    "\n",
    "I am measuring success just as the Pearson correlation of predicted y values and actual y values, which seems kinda sorta analogous to mean squared error. David probably knows a better metric."
   ]
  },
  {
   "cell_type": "code",
   "execution_count": 70,
   "metadata": {},
   "outputs": [
    {
     "name": "stdout",
     "output_type": "stream",
     "text": [
      "1e-06 8000 0.54439104883 2.05539089961e-115\n",
      "1e-06 6000 0.534225158237 2.01382216051e-110\n",
      "1e-06 3000 0.480133480294 1.54463032285e-86\n",
      "1e-06 2000 0.396485171708 4.0158833437e-57\n",
      "1e-06 1000 0.369591419397 2.61066729744e-49\n",
      "1e-06 500 0.518870219827 3.36680359934e-103\n",
      "1e-06 250 0.524042328825 1.36619363925e-105\n",
      "1e-06 100 0.506597788687 1.09614952022e-97\n",
      "0.001 8000 0.5443943254 2.04766080431e-115\n",
      "0.001 6000 0.53422916249 2.00488084394e-110\n",
      "0.001 3000 0.480144665682 1.52867870516e-86\n",
      "0.001 2000 0.396519769887 3.91970078333e-57\n",
      "0.001 1000 0.369679939075 2.4673087043e-49\n",
      "0.001 500 0.518872850596 3.3574667793e-103\n",
      "0.001 250 0.524042820662 1.36547216191e-105\n",
      "0.001 100 0.506597858354 1.09607214148e-97\n",
      "0.1 8000 0.544717497163 1.41178281377e-115\n",
      "0.1 6000 0.534623666047 1.29289764338e-110\n",
      "0.1 3000 0.481241969417 5.51095189705e-87\n",
      "0.1 2000 0.399856829983 3.73148394224e-58\n",
      "0.1 1000 0.377504466825 1.56168749295e-51\n",
      "0.1 500 0.519132704884 2.55170847745e-103\n",
      "0.1 250 0.524091520384 1.29588327089e-105\n",
      "0.1 100 0.506604759958 1.08843347172e-97\n",
      "1 8000 0.547495272651 5.6807885609e-117\n",
      "1 6000 0.538003367395 2.94410968253e-112\n",
      "1 3000 0.490320496407 1.02983868335e-90\n",
      "1 2000 0.424174763564 5.84704625394e-66\n",
      "1 1000 0.415224391074 5.18650750176e-63\n",
      "1 500 0.521420258464 2.2551945338e-104\n",
      "1 250 0.524530562556 8.08348629121e-106\n",
      "1 100 0.506667292291 1.02159685097e-97\n",
      "10 8000 0.566261251572 9.4426970852e-127\n",
      "10 6000 0.560329151583 1.36219653629e-123\n",
      "10 3000 0.539446090159 5.78165211427e-113\n",
      "10 2000 0.514775917612 2.46293782475e-101\n",
      "10 1000 0.509143102942 8.22218072228e-99\n",
      "10 500 0.538808262983 1.18849246537e-112\n",
      "10 250 0.528584482338 1.0016798314e-107\n",
      "10 100 0.507272420179 5.52902722401e-98\n",
      "100 8000 0.606927524348 3.02311575678e-150\n",
      "100 6000 0.605844450355 1.41467930501e-149\n",
      "100 3000 0.605746753487 1.6254947813e-149\n",
      "100 2000 0.600676017257 2.05867024041e-146\n",
      "100 1000 0.591955754444 3.31820059575e-141\n",
      "100 500 0.583142934416 4.20941521747e-136\n",
      "100 250 0.550584467027 1.53864888504e-118\n",
      "100 100 0.511751019277 5.65600822347e-100\n",
      "1000 8000 0.59440219282 1.1915147242e-142\n",
      "1000 6000 0.59422976506 1.50777943268e-142\n",
      "1000 3000 0.594136461493 1.71251708911e-142\n",
      "1000 2000 0.592695274163 1.21749930017e-141\n",
      "1000 1000 0.587918609763 7.55477787379e-139\n",
      "1000 500 0.579069658271 8.52295166873e-134\n",
      "1000 250 0.558857826141 8.08987396367e-123\n",
      "1000 100 0.517798851468 1.04111874607e-102\n",
      "10000 8000 0.528644443997 9.38273965138e-108\n",
      "10000 6000 0.52854571444 1.04493021857e-107\n",
      "10000 3000 0.528217127549 1.4948320474e-107\n",
      "10000 2000 0.52765275224 2.76239817238e-107\n",
      "10000 1000 0.525700509902 2.29052945858e-106\n",
      "10000 500 0.522171942218 1.01203955791e-104\n",
      "10000 250 0.514175871965 4.59765786849e-101\n",
      "10000 100 0.496124281369 3.71250078451e-93\n"
     ]
    },
    {
     "data": {
      "image/png": "[encoded data removed]",
      "text/plain": [
       "<matplotlib.figure.Figure at 0x1213e47b8>"
      ]
     },
     "metadata": {},
     "output_type": "display_data"
    }
   ],
   "source": [
    "griddf = grid_test_leaveone(df, data2model)\n",
    "plt.imshow(griddf)\n",
    "plt.show()"
   ]
  },
  {
   "cell_type": "code",
   "execution_count": 71,
   "metadata": {},
   "outputs": [
    {
     "name": "stdout",
     "output_type": "stream",
     "text": [
      "alpha =  100.0 numvar =  8000\n"
     ]
    },
    {
     "data": {
      "text/plain": [
       "0.60692752434761754"
      ]
     },
     "execution_count": 71,
     "metadata": {},
     "output_type": "execute_result"
    }
   ],
   "source": [
    "colidx = griddf.max(axis = 0).idxmax()\n",
    "rowidx = griddf.max(axis = 1).idxmax()\n",
    "print('alpha = ', rowidx, 'numvar = ', colidx)\n",
    "griddf.loc[rowidx, colidx]"
   ]
  },
  {
   "cell_type": "markdown",
   "metadata": {},
   "source": [
    "That's not bad, although it hints that we could get even better accuracy with more features!\n",
    "\n",
    "Let's look at a scatterplot of predicted log(time) versus actual."
   ]
  },
  {
   "cell_type": "code",
   "execution_count": 79,
   "metadata": {},
   "outputs": [
    {
     "data": {
      "image/png": "[encoded data removed]",
      "text/plain": [
       "<matplotlib.figure.Figure at 0x1212ff780>"
      ]
     },
     "metadata": {},
     "output_type": "display_data"
    }
   ],
   "source": [
    "y = []\n",
    "yhat = []\n",
    "for t in unique_titles:\n",
    "    predictions, actual = model_holding_out(df, data2model, [t], 100, 8000)\n",
    "    y.extend(actual)\n",
    "    yhat.extend(predictions)\n",
    "plt.scatter(y, yhat)\n",
    "plt.show()"
   ]
  },
  {
   "cell_type": "markdown",
   "metadata": {},
   "source": [
    "#### Grouping results by volume.\n",
    "\n",
    "How much better can we do if we aggregate / average all the predictions for volume segments?"
   ]
  },
  {
   "cell_type": "code",
   "execution_count": 80,
   "metadata": {},
   "outputs": [
    {
     "data": {
      "text/html": [
       "<div>\n",
       "<table border=\"1\" class=\"dataframe\">\n",
       "  <thead>\n",
       "    <tr style=\"text-align: right;\">\n",
       "      <th></th>\n",
       "      <th>actual</th>\n",
       "      <th>predicted</th>\n",
       "    </tr>\n",
       "    <tr>\n",
       "      <th>title</th>\n",
       "      <th></th>\n",
       "      <th></th>\n",
       "    </tr>\n",
       "  </thead>\n",
       "  <tbody>\n",
       "    <tr>\n",
       "      <th>A Portrait of the Artist as a Young Man</th>\n",
       "      <td>0.073734</td>\n",
       "      <td>0.790168</td>\n",
       "    </tr>\n",
       "    <tr>\n",
       "      <th>A SICILIAN ROMANCE. BY THE AUTHORESS OF THE CASTLES OF ATHLIN AND DUNBAYNE. IN TWO VOLUMES.</th>\n",
       "      <td>-1.978903</td>\n",
       "      <td>-1.888601</td>\n",
       "    </tr>\n",
       "    <tr>\n",
       "      <th>A family history</th>\n",
       "      <td>3.745715</td>\n",
       "      <td>3.082421</td>\n",
       "    </tr>\n",
       "    <tr>\n",
       "      <th>A spy in the house of love</th>\n",
       "      <td>-0.754744</td>\n",
       "      <td>0.892429</td>\n",
       "    </tr>\n",
       "    <tr>\n",
       "      <th>A woman named Drown</th>\n",
       "      <td>-1.638981</td>\n",
       "      <td>-1.697709</td>\n",
       "    </tr>\n",
       "  </tbody>\n",
       "</table>\n",
       "</div>"
      ],
      "text/plain": [
       "                                                      actual  predicted\n",
       "title                                                                  \n",
       "A Portrait of the Artist as a Young Man             0.073734   0.790168\n",
       "A SICILIAN ROMANCE. BY THE AUTHORESS OF THE CAS... -1.978903  -1.888601\n",
       "A family history                                    3.745715   3.082421\n",
       "A spy in the house of love                         -0.754744   0.892429\n",
       "A woman named Drown                                -1.638981  -1.697709"
      ]
     },
     "execution_count": 80,
     "metadata": {},
     "output_type": "execute_result"
    }
   ],
   "source": [
    "results = pd.DataFrame({'title': data2model.title, 'actual': y, 'predicted': yhat})\n",
    "grouped = results.groupby('title')\n",
    "volavg = grouped.aggregate(np.mean)\n",
    "volavg.head()"
   ]
  },
  {
   "cell_type": "code",
   "execution_count": 81,
   "metadata": {},
   "outputs": [
    {
     "name": "stdout",
     "output_type": "stream",
     "text": [
      "(0.74676689805091756, 2.9158827272944856e-17)\n"
     ]
    },
    {
     "data": {
      "image/png": "[encoded data removed]",
      "text/plain": [
       "<matplotlib.figure.Figure at 0x121618ac8>"
      ]
     },
     "metadata": {},
     "output_type": "display_data"
    }
   ],
   "source": [
    "print(pearsonr(volavg.actual, volavg.predicted))\n",
    "plt.scatter(volavg.actual, volavg.predicted)\n",
    "plt.show()"
   ]
  },
  {
   "cell_type": "markdown",
   "metadata": {},
   "source": [
    "*r* around 0.75 makes me pretty happy."
   ]
  },
  {
   "cell_type": "markdown",
   "metadata": {},
   "source": [
    "### Can we do better with intelligent feature selection?\n",
    "\n",
    "There are certain features that I expect to matter a lot where time is concerned. Can we do better by enriching our feature sets with them?"
   ]
  },
  {
   "cell_type": "code",
   "execution_count": 73,
   "metadata": {},
   "outputs": [
    {
     "name": "stdout",
     "output_type": "stream",
     "text": [
      "90\n"
     ]
    }
   ],
   "source": [
    "timewords = ['hour', 'hours', 'minute', 'minutes', 'second', 'seconds', \n",
    "             'day', 'days', 'week', 'weeks', 'year', 'years', 'time', 'times',\n",
    "            'heartbeat', 'instant', 'moment', 'breath', 'month', 'months',\n",
    "            'monday', 'tuesday', 'wednesday', 'thursday', 'friday', 'saturday',\n",
    "            'sunday', 'morning', 'afternoon', 'evening', 'night', 'nights',\n",
    "            'january', 'february', 'march', 'april', 'may', 'june', 'july',\n",
    "            'august', 'september', 'october', 'november', 'december']\n",
    "concretewords = ['red', 'yellow', 'blue', 'black', 'white', 'green', 'brown',\n",
    "                 'face', 'hair', 'eyes', 'eye', 'arm', 'hands', 'hand', 'leg', 'legs',\n",
    "                 'feet', 'foot', 'head', 'lips', 'ear', 'ears', 'nose']\n",
    "dialoguewords = ['says', 'said', 'cried', 'exclaimed', 'replied', 'answered', 'asked',\n",
    "                'muttered', 'giggled', 'laughed', 'smiled']\n",
    "perceptionwords = ['see', 'saw', 'listened', 'listen', 'heard', 'hear', 'smelled', \n",
    "                   'smell', 'scent', 'odour', 'odor', 'taste']\n",
    "specialwords = timewords + concretewords + dialoguewords + perceptionwords\n",
    "print(len(specialwords))"
   ]
  },
  {
   "cell_type": "code",
   "execution_count": 74,
   "metadata": {},
   "outputs": [
    {
     "name": "stdout",
     "output_type": "stream",
     "text": [
      "8003\n"
     ]
    }
   ],
   "source": [
    "vocabulary = specialwords + [x for x in topfeatures if x not in specialwords]\n",
    "print(len(vocabulary))"
   ]
  },
  {
   "cell_type": "code",
   "execution_count": 75,
   "metadata": {},
   "outputs": [
    {
     "name": "stdout",
     "output_type": "stream",
     "text": [
      "(1486, 8003)\n"
     ]
    },
    {
     "data": {
      "text/html": [
       "<div>\n",
       "<table border=\"1\" class=\"dataframe\">\n",
       "  <thead>\n",
       "    <tr style=\"text-align: right;\">\n",
       "      <th></th>\n",
       "      <th>hour</th>\n",
       "      <th>hours</th>\n",
       "      <th>minute</th>\n",
       "      <th>minutes</th>\n",
       "      <th>second</th>\n",
       "      <th>seconds</th>\n",
       "      <th>day</th>\n",
       "      <th>days</th>\n",
       "      <th>week</th>\n",
       "      <th>weeks</th>\n",
       "      <th>...</th>\n",
       "      <th>acquiesced</th>\n",
       "      <th>acknowledgment</th>\n",
       "      <th>aching</th>\n",
       "      <th>achieving</th>\n",
       "      <th>ache</th>\n",
       "      <th>ab</th>\n",
       "      <th>_x_</th>\n",
       "      <th>99</th>\n",
       "      <th>97</th>\n",
       "      <th>77</th>\n",
       "    </tr>\n",
       "    <tr>\n",
       "      <th>title</th>\n",
       "      <th></th>\n",
       "      <th></th>\n",
       "      <th></th>\n",
       "      <th></th>\n",
       "      <th></th>\n",
       "      <th></th>\n",
       "      <th></th>\n",
       "      <th></th>\n",
       "      <th></th>\n",
       "      <th></th>\n",
       "      <th></th>\n",
       "      <th></th>\n",
       "      <th></th>\n",
       "      <th></th>\n",
       "      <th></th>\n",
       "      <th></th>\n",
       "      <th></th>\n",
       "      <th></th>\n",
       "      <th></th>\n",
       "      <th></th>\n",
       "      <th></th>\n",
       "    </tr>\n",
       "  </thead>\n",
       "  <tbody>\n",
       "    <tr>\n",
       "      <th>Boston Common</th>\n",
       "      <td>0</td>\n",
       "      <td>0</td>\n",
       "      <td>0</td>\n",
       "      <td>0</td>\n",
       "      <td>0</td>\n",
       "      <td>0</td>\n",
       "      <td>0</td>\n",
       "      <td>0</td>\n",
       "      <td>0</td>\n",
       "      <td>0</td>\n",
       "      <td>...</td>\n",
       "      <td>0</td>\n",
       "      <td>0</td>\n",
       "      <td>0</td>\n",
       "      <td>0</td>\n",
       "      <td>0</td>\n",
       "      <td>0</td>\n",
       "      <td>0</td>\n",
       "      <td>0</td>\n",
       "      <td>0</td>\n",
       "      <td>0</td>\n",
       "    </tr>\n",
       "    <tr>\n",
       "      <th>Boston Common</th>\n",
       "      <td>0</td>\n",
       "      <td>0</td>\n",
       "      <td>0</td>\n",
       "      <td>0</td>\n",
       "      <td>0</td>\n",
       "      <td>0</td>\n",
       "      <td>0</td>\n",
       "      <td>0</td>\n",
       "      <td>0</td>\n",
       "      <td>0</td>\n",
       "      <td>...</td>\n",
       "      <td>0</td>\n",
       "      <td>0</td>\n",
       "      <td>0</td>\n",
       "      <td>0</td>\n",
       "      <td>0</td>\n",
       "      <td>0</td>\n",
       "      <td>0</td>\n",
       "      <td>0</td>\n",
       "      <td>0</td>\n",
       "      <td>0</td>\n",
       "    </tr>\n",
       "    <tr>\n",
       "      <th>Boston Common</th>\n",
       "      <td>0</td>\n",
       "      <td>0</td>\n",
       "      <td>0</td>\n",
       "      <td>0</td>\n",
       "      <td>1</td>\n",
       "      <td>0</td>\n",
       "      <td>1</td>\n",
       "      <td>0</td>\n",
       "      <td>0</td>\n",
       "      <td>0</td>\n",
       "      <td>...</td>\n",
       "      <td>0</td>\n",
       "      <td>0</td>\n",
       "      <td>0</td>\n",
       "      <td>0</td>\n",
       "      <td>0</td>\n",
       "      <td>0</td>\n",
       "      <td>0</td>\n",
       "      <td>0</td>\n",
       "      <td>0</td>\n",
       "      <td>0</td>\n",
       "    </tr>\n",
       "    <tr>\n",
       "      <th>Boston Common</th>\n",
       "      <td>0</td>\n",
       "      <td>0</td>\n",
       "      <td>0</td>\n",
       "      <td>0</td>\n",
       "      <td>0</td>\n",
       "      <td>0</td>\n",
       "      <td>1</td>\n",
       "      <td>0</td>\n",
       "      <td>0</td>\n",
       "      <td>0</td>\n",
       "      <td>...</td>\n",
       "      <td>0</td>\n",
       "      <td>0</td>\n",
       "      <td>0</td>\n",
       "      <td>0</td>\n",
       "      <td>0</td>\n",
       "      <td>0</td>\n",
       "      <td>0</td>\n",
       "      <td>0</td>\n",
       "      <td>0</td>\n",
       "      <td>0</td>\n",
       "    </tr>\n",
       "    <tr>\n",
       "      <th>Boston Common</th>\n",
       "      <td>0</td>\n",
       "      <td>0</td>\n",
       "      <td>0</td>\n",
       "      <td>0</td>\n",
       "      <td>0</td>\n",
       "      <td>0</td>\n",
       "      <td>2</td>\n",
       "      <td>0</td>\n",
       "      <td>0</td>\n",
       "      <td>0</td>\n",
       "      <td>...</td>\n",
       "      <td>0</td>\n",
       "      <td>0</td>\n",
       "      <td>0</td>\n",
       "      <td>0</td>\n",
       "      <td>0</td>\n",
       "      <td>0</td>\n",
       "      <td>0</td>\n",
       "      <td>0</td>\n",
       "      <td>0</td>\n",
       "      <td>0</td>\n",
       "    </tr>\n",
       "  </tbody>\n",
       "</table>\n",
       "<p>5 rows × 8003 columns</p>\n",
       "</div>"
      ],
      "text/plain": [
       "               hour  hours  minute  minutes  second  seconds  day  days  week  \\\n",
       "title                                                                           \n",
       "Boston Common     0      0       0        0       0        0    0     0     0   \n",
       "Boston Common     0      0       0        0       0        0    0     0     0   \n",
       "Boston Common     0      0       0        0       1        0    1     0     0   \n",
       "Boston Common     0      0       0        0       0        0    1     0     0   \n",
       "Boston Common     0      0       0        0       0        0    2     0     0   \n",
       "\n",
       "               weeks ...  acquiesced  acknowledgment  aching  achieving  ache  \\\n",
       "title                ...                                                        \n",
       "Boston Common      0 ...           0               0       0          0     0   \n",
       "Boston Common      0 ...           0               0       0          0     0   \n",
       "Boston Common      0 ...           0               0       0          0     0   \n",
       "Boston Common      0 ...           0               0       0          0     0   \n",
       "Boston Common      0 ...           0               0       0          0     0   \n",
       "\n",
       "               ab  _x_  99  97  77  \n",
       "title                               \n",
       "Boston Common   0    0   0   0   0  \n",
       "Boston Common   0    0   0   0   0  \n",
       "Boston Common   0    0   0   0   0  \n",
       "Boston Common   0    0   0   0   0  \n",
       "Boston Common   0    0   0   0   0  \n",
       "\n",
       "[5 rows x 8003 columns]"
      ]
     },
     "execution_count": 75,
     "metadata": {},
     "output_type": "execute_result"
    }
   ],
   "source": [
    "vectorizer = CountVectorizer(vocabulary = vocabulary)\n",
    "X = vectorizer.fit_transform(data2model.text)\n",
    "count_array = X.toarray()\n",
    "newdf = pd.DataFrame(count_array, columns = vocabulary, index = data2model.title)\n",
    "print(newdf.shape)\n",
    "newdf.head()"
   ]
  },
  {
   "cell_type": "code",
   "execution_count": 76,
   "metadata": {},
   "outputs": [
    {
     "name": "stdout",
     "output_type": "stream",
     "text": [
      "1e-06 8000 0.544310305605 2.25535114339e-115\n",
      "1e-06 6000 0.534483709865 1.5107218029e-110\n",
      "1e-06 3000 0.48007187386 1.63550702561e-86\n",
      "1e-06 2000 0.383250699287 3.46802621397e-53\n",
      "1e-06 1000 0.391671800441 1.1384485484e-55\n",
      "1e-06 500 0.495962814237 4.34785172433e-93\n",
      "1e-06 250 0.548205117596 2.48728347085e-117\n",
      "1e-06 100 0.548988499959 9.97429834145e-118\n",
      "0.001 8000 0.544313590755 2.24684916558e-115\n",
      "0.001 6000 0.534487695918 1.50403887134e-110\n",
      "0.001 3000 0.480082838923 1.61895129066e-86\n",
      "0.001 2000 0.383288796332 3.3807158216e-53\n",
      "0.001 1000 0.391732466747 1.09183212443e-55\n",
      "0.001 500 0.495974550414 4.29822559689e-93\n",
      "0.001 250 0.548213832497 2.46216019574e-117\n",
      "0.001 100 0.548999177153 9.85068132462e-118\n",
      "0.1 8000 0.544636853713 1.54910987491e-115\n",
      "0.1 6000 0.53488046656 9.71420598251e-111\n",
      "0.1 3000 0.481158192642 5.95816433137e-87\n",
      "0.1 2000 0.386964038328 2.84308888978e-54\n",
      "0.1 1000 0.397093453031 2.62119411961e-57\n",
      "0.1 500 0.497043628375 1.50775118758e-93\n",
      "0.1 250 0.548996916919 9.87672145361e-118\n",
      "0.1 100 0.549944842994 3.25831366518e-118\n",
      "1 8000 0.547415448851 6.23289200964e-117\n",
      "1 6000 0.5382457464 2.2409564571e-112\n",
      "1 3000 0.490077992815 1.299661176e-90\n",
      "1 2000 0.413771999226 1.5306243544e-62\n",
      "1 1000 0.42693745984 6.89998867812e-67\n",
      "1 500 0.503114962399 3.66207780786e-96\n",
      "1 250 0.552830047885 1.09025736595e-119\n",
      "1 100 0.554014435196 2.67702668158e-120\n",
      "10 8000 0.56618906912 1.03257924586e-126\n",
      "10 6000 0.560486921911 1.12472153323e-123\n",
      "10 3000 0.538863275004 1.11694482879e-112\n",
      "10 2000 0.511998735768 4.38091316247e-100\n",
      "10 1000 0.515531052471 1.12081503191e-101\n",
      "10 500 0.52582345916 2.00566161823e-106\n",
      "10 250 0.560227953523 1.54020855004e-123\n",
      "10 100 0.558982860846 6.9557270974e-123\n",
      "100 8000 0.60689036352 3.18781165156e-150\n",
      "100 6000 0.605859234047 1.38524719333e-149\n",
      "100 3000 0.605565307549 2.10364462987e-149\n",
      "100 2000 0.601090062289 1.15433949375e-146\n",
      "100 1000 0.593663026985 3.26543090231e-142\n",
      "100 500 0.574472381683 3.12526453097e-131\n",
      "100 250 0.568159291082 8.92638436585e-128\n",
      "100 100 0.554029130916 2.63069210711e-120\n",
      "1000 8000 0.594392058919 1.20811942949e-142\n",
      "1000 6000 0.594228669479 1.51003573343e-142\n",
      "1000 3000 0.5941513658 1.67804257169e-142\n",
      "1000 2000 0.592866570497 9.64821877039e-142\n",
      "1000 1000 0.588138182153 5.63463189621e-139\n",
      "1000 500 0.576885788974 1.42495740439e-132\n",
      "1000 250 0.557090834128 6.79219445701e-122\n",
      "1000 100 0.508274756676 1.99442395489e-98\n",
      "10000 8000 0.528642616439 9.40146047994e-108\n",
      "10000 6000 0.528544942064 1.04581055246e-107\n",
      "10000 3000 0.528225810729 1.48076196327e-107\n",
      "10000 2000 0.527682876665 2.67339912234e-107\n",
      "10000 1000 0.525704030155 2.2818378682e-106\n",
      "10000 500 0.521582679216 1.89699638898e-104\n",
      "10000 250 0.511158574148 1.04106756943e-99\n",
      "10000 100 0.445668830813 2.05991299101e-73\n"
     ]
    }
   ],
   "source": [
    "griddf = grid_test_leaveone(newdf, data2model)\n"
   ]
  },
  {
   "cell_type": "code",
   "execution_count": 77,
   "metadata": {},
   "outputs": [
    {
     "data": {
      "image/png": "[encoded data removed]",
      "text/plain": [
       "<matplotlib.figure.Figure at 0x1061633c8>"
      ]
     },
     "metadata": {},
     "output_type": "display_data"
    }
   ],
   "source": [
    "plt.imshow(griddf)\n",
    "plt.show()"
   ]
  },
  {
   "cell_type": "code",
   "execution_count": 78,
   "metadata": {},
   "outputs": [
    {
     "name": "stdout",
     "output_type": "stream",
     "text": [
      "alpha =  100.0 numvar =  8000\n"
     ]
    },
    {
     "data": {
      "text/plain": [
       "0.60689036352011749"
      ]
     },
     "execution_count": 78,
     "metadata": {},
     "output_type": "execute_result"
    }
   ],
   "source": [
    "colidx = griddf.max(axis = 0).idxmax()\n",
    "rowidx = griddf.max(axis = 1).idxmax()\n",
    "print('alpha = ', rowidx, 'numvar = ', colidx)\n",
    "griddf.loc[rowidx, colidx]"
   ]
  },
  {
   "cell_type": "markdown",
   "metadata": {},
   "source": [
    "Basically, human feature selection does improve performance at low variable-counts. But it doesn't beat high variable-counts. Automated feature selection might still be worth a try."
   ]
  },
  {
   "cell_type": "markdown",
   "metadata": {},
   "source": [
    "### Let's try scaling features."
   ]
  },
  {
   "cell_type": "code",
   "execution_count": 87,
   "metadata": {},
   "outputs": [
    {
     "name": "stdout",
     "output_type": "stream",
     "text": [
      "(1486, 8000)\n"
     ]
    }
   ],
   "source": [
    "scaler = StandardScaler()\n",
    "scaled = scaler.fit_transform(df)\n",
    "scaled_df = pd.DataFrame(scaled, columns = topfeatures, index = data2model.title)\n",
    "print(scaled_df.shape)"
   ]
  },
  {
   "cell_type": "code",
   "execution_count": 91,
   "metadata": {},
   "outputs": [],
   "source": [
    "# Creating a new function because the scaled data profits from higher alpha.\n",
    "\n",
    "def grid_test_forscaled(data, metadata):\n",
    "    grid = []\n",
    "    alpharange = [100, 1000, 10000, 100000, 1000000]\n",
    "    varrange = [8000, 6000, 3000, 2000, 1000, 500]\n",
    "    unique_titles = list(set(metadata.title))\n",
    "    \n",
    "    for alpha in alpharange:\n",
    "        row = []\n",
    "        for numvar in varrange:\n",
    "            y = []\n",
    "            yhat = []\n",
    "            for t in unique_titles:\n",
    "                holdout = [t]\n",
    "                predictions, actual = model_holding_out(data, metadata, holdout, alpha, numvar)\n",
    "                y.extend(actual)\n",
    "                yhat.extend(predictions)\n",
    "            r, p = pearsonr(y, yhat)\n",
    "            print(alpha, numvar, r, p)\n",
    "            row.append(r)\n",
    "        grid.append(row)\n",
    "    \n",
    "    griddf = pd.DataFrame(grid, columns = varrange, index = alpharange)\n",
    "    \n",
    "    return griddf"
   ]
  },
  {
   "cell_type": "code",
   "execution_count": 93,
   "metadata": {},
   "outputs": [
    {
     "name": "stdout",
     "output_type": "stream",
     "text": [
      "100 8000 0.588936291599 1.93697204492e-139\n",
      "100 6000 0.569511679938 1.64693609148e-128\n",
      "100 3000 0.513038272325 1.49618518979e-100\n",
      "100 2000 0.450609393914 3.33843144517e-75\n",
      "100 1000 0.483718998329 5.43317933782e-88\n",
      "100 500 0.545055099764 9.56925908644e-116\n",
      "1000 8000 0.604731228456 6.86799171198e-149\n",
      "1000 6000 0.595085405679 4.68154373891e-143\n",
      "1000 3000 0.591285626096 8.21305539472e-141\n",
      "1000 2000 0.582247921912 1.36079743571e-135\n",
      "1000 1000 0.598551918367 3.95163506003e-145\n",
      "1000 500 0.605751869004 1.61371665304e-149\n",
      "10000 8000 0.634545904269 2.99144601514e-168\n",
      "10000 6000 0.63297578786 3.53815213151e-167\n",
      "10000 3000 0.642140978322 1.5737347486e-173\n",
      "10000 2000 0.637769907347 1.79152097987e-170\n",
      "10000 1000 0.629972704229 3.83391583906e-165\n",
      "10000 500 0.615626658479 1.00531735661e-155\n",
      "100000 8000 0.62160955082 1.36120140236e-159\n",
      "100000 6000 0.617825133833 3.89527287506e-157\n",
      "100000 3000 0.617795471382 4.07061889772e-157\n",
      "100000 2000 0.61222651686 1.45829043867e-153\n",
      "100000 1000 0.597861859882 1.02702482039e-144\n",
      "100000 500 0.578656096448 1.45526133148e-133\n",
      "1000000 8000 0.471504972858 4.14195734674e-83\n",
      "1000000 6000 0.456056603534 3.2744990343e-77\n",
      "1000000 3000 0.416131196591 2.63181955597e-63\n",
      "1000000 2000 0.373631354826 1.94749299573e-50\n",
      "1000000 1000 0.263558904422 4.91704885157e-25\n",
      "1000000 500 0.137216129115 1.09514823228e-07\n"
     ]
    }
   ],
   "source": [
    "griddf = grid_test_forscaled(scaled_df, data2model)"
   ]
  },
  {
   "cell_type": "code",
   "execution_count": 94,
   "metadata": {},
   "outputs": [
    {
     "data": {
      "image/png": "[encoded data removed]",
      "text/plain": [
       "<matplotlib.figure.Figure at 0x1212af6a0>"
      ]
     },
     "metadata": {},
     "output_type": "display_data"
    }
   ],
   "source": [
    "plt.imshow(griddf)\n",
    "plt.show()"
   ]
  },
  {
   "cell_type": "code",
   "execution_count": 95,
   "metadata": {},
   "outputs": [
    {
     "name": "stdout",
     "output_type": "stream",
     "text": [
      "alpha =  10000 numvar =  3000\n"
     ]
    },
    {
     "data": {
      "text/plain": [
       "0.64214097832237749"
      ]
     },
     "execution_count": 95,
     "metadata": {},
     "output_type": "execute_result"
    }
   ],
   "source": [
    "colidx = griddf.max(axis = 0).idxmax()\n",
    "rowidx = griddf.max(axis = 1).idxmax()\n",
    "print('alpha = ', rowidx, 'numvar = ', colidx)\n",
    "griddf.loc[rowidx, colidx]"
   ]
  },
  {
   "cell_type": "markdown",
   "metadata": {},
   "source": [
    "#### Verdict: scaling helps.\n",
    "\n",
    "It would probably also help to zoom in the grid and search more carefully."
   ]
  },
  {
   "cell_type": "code",
   "execution_count": 96,
   "metadata": {},
   "outputs": [
    {
     "data": {
      "image/png": "[encoded data removed]",
      "text/plain": [
       "<matplotlib.figure.Figure at 0x12177cf28>"
      ]
     },
     "metadata": {},
     "output_type": "display_data"
    }
   ],
   "source": [
    "# Let's visualize these improved predictions.\n",
    "\n",
    "y = []\n",
    "yhat = []\n",
    "for t in unique_titles:\n",
    "    predictions, actual = model_holding_out(scaled_df, data2model, [t], 10000, 3000)\n",
    "    y.extend(actual)\n",
    "    yhat.extend(predictions)\n",
    "plt.scatter(y, yhat)\n",
    "plt.show()"
   ]
  },
  {
   "cell_type": "code",
   "execution_count": 97,
   "metadata": {},
   "outputs": [
    {
     "name": "stdout",
     "output_type": "stream",
     "text": [
      "(0.75866830323521439, 4.6563806681244031e-18)\n"
     ]
    },
    {
     "data": {
      "image/png": "[encoded data removed]",
      "text/plain": [
       "<matplotlib.figure.Figure at 0x1216c65c0>"
      ]
     },
     "metadata": {},
     "output_type": "display_data"
    }
   ],
   "source": [
    "# And aggregate them by title.\n",
    "\n",
    "results = pd.DataFrame({'title': data2model.title, 'actual': y, 'predicted': yhat})\n",
    "grouped = results.groupby('title')\n",
    "volavg = grouped.aggregate(np.mean)\n",
    "print(pearsonr(volavg.actual, volavg.predicted))\n",
    "plt.scatter(volavg.actual, volavg.predicted)\n",
    "plt.show()"
   ]
  },
  {
   "cell_type": "code",
   "execution_count": null,
   "metadata": {},
   "outputs": [],
   "source": []
  }
 ],
 "metadata": {
  "anaconda-cloud": {},
  "kernelspec": {
   "display_name": "Python 3",
   "language": "python",
   "name": "python3"
  },
  "language_info": {
   "codemirror_mode": {
    "name": "ipython",
    "version": 3
   },
   "file_extension": ".py",
   "mimetype": "text/x-python",
   "name": "python",
   "nbconvert_exporter": "python",
   "pygments_lexer": "ipython3",
   "version": "3.5.2"
  }
 },
 "nbformat": 4,
 "nbformat_minor": 1
}
